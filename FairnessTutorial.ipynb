{
  "nbformat": 4,
  "nbformat_minor": 0,
  "metadata": {
    "colab": {
      "name": "FairnessTutorial.ipynb",
      "provenance": [],
      "collapsed_sections": []
    },
    "kernelspec": {
      "name": "python3",
      "display_name": "Python 3"
    },
    "language_info": {
      "name": "python"
    }
  },
  "cells": [
    {
      "cell_type": "markdown",
      "source": [
        "## Notebook概要\n",
        "- 目的は[Fairlean](https://fairlearn.org/main/quickstart.html#)で準備されている公平性指標や緩和アルゴリズムを使用を通じたAI公平性ツール理解の補助。\n",
        "- 使用する[Adult Dataset](https://archive.ics.uci.edu/ml/datasets/adult)は性別、年齢などの個人情報と共に収入が50k以上かどうかのラベルを提供。\n",
        "- 上記ラベルを予測する機械学習モデルと対象としてFairlearnを使用。\n",
        "\n",
        "## 注意事項\n",
        "- [MLSE夏合宿2022](https://sites.google.com/view/sig-mlse/%E6%B4%BB%E5%8B%95%E4%BA%88%E5%AE%9A/%E5%A4%8F%E5%90%88%E5%AE%BF2022)\n",
        "AI公平性ツールミニチュートリアル向けに作成。\n",
        "- Google Colabでの使用を想定。\n",
        "- Fairlearnの[Quick Start](https://fairlearn.org/main/quickstart.html#)を参考に作成。"
      ],
      "metadata": {
        "id": "vMWyjNaubyde"
      }
    },
    {
      "cell_type": "markdown",
      "source": [
        "# ライブラリの準備"
      ],
      "metadata": {
        "id": "5BLWLz5mAh9r"
      }
    },
    {
      "cell_type": "code",
      "source": [
        "!pip install fairlearn\n",
        "import numpy as np\n",
        "import pandas as pd\n",
        "import matplotlib.pyplot as plt\n",
        "from sklearn.datasets import fetch_openml\n",
        "from sklearn.tree import DecisionTreeClassifier\n",
        "from sklearn.metrics import accuracy_score\n",
        "import warnings\n",
        "warnings.filterwarnings('ignore')\n",
        "\n",
        "import fairlearn\n",
        "from fairlearn.reductions import ExponentiatedGradient, DemographicParity, EqualizedOdds"
      ],
      "metadata": {
        "colab": {
          "base_uri": "https://localhost:8080/"
        },
        "id": "hIHmgDn5Zd4s",
        "outputId": "2a782b2d-f153-4698-8148-5106f91a4472"
      },
      "execution_count": null,
      "outputs": [
        {
          "output_type": "stream",
          "name": "stdout",
          "text": [
            "Looking in indexes: https://pypi.org/simple, https://us-python.pkg.dev/colab-wheels/public/simple/\n",
            "Collecting fairlearn\n",
            "  Downloading fairlearn-0.7.0-py3-none-any.whl (177 kB)\n",
            "\u001b[K     |████████████████████████████████| 177 kB 17.8 MB/s \n",
            "\u001b[?25hRequirement already satisfied: pandas>=0.25.1 in /usr/local/lib/python3.7/dist-packages (from fairlearn) (1.3.5)\n",
            "Requirement already satisfied: scikit-learn>=0.22.1 in /usr/local/lib/python3.7/dist-packages (from fairlearn) (1.0.2)\n",
            "Requirement already satisfied: numpy>=1.17.2 in /usr/local/lib/python3.7/dist-packages (from fairlearn) (1.21.6)\n",
            "Requirement already satisfied: scipy>=1.4.1 in /usr/local/lib/python3.7/dist-packages (from fairlearn) (1.4.1)\n",
            "Requirement already satisfied: python-dateutil>=2.7.3 in /usr/local/lib/python3.7/dist-packages (from pandas>=0.25.1->fairlearn) (2.8.2)\n",
            "Requirement already satisfied: pytz>=2017.3 in /usr/local/lib/python3.7/dist-packages (from pandas>=0.25.1->fairlearn) (2022.1)\n",
            "Requirement already satisfied: six>=1.5 in /usr/local/lib/python3.7/dist-packages (from python-dateutil>=2.7.3->pandas>=0.25.1->fairlearn) (1.15.0)\n",
            "Requirement already satisfied: joblib>=0.11 in /usr/local/lib/python3.7/dist-packages (from scikit-learn>=0.22.1->fairlearn) (1.1.0)\n",
            "Requirement already satisfied: threadpoolctl>=2.0.0 in /usr/local/lib/python3.7/dist-packages (from scikit-learn>=0.22.1->fairlearn) (3.1.0)\n",
            "Installing collected packages: fairlearn\n",
            "Successfully installed fairlearn-0.7.0\n"
          ]
        }
      ]
    },
    {
      "cell_type": "markdown",
      "source": [
        "# データ準備\n",
        "- 実験用に[Adult Dataset](https://archive.ics.uci.edu/ml/datasets/adult)をsklearnを用いてダウンロード。\n",
        "- Fairlearnでは公平性の観点（sensitive feature）の指定が必要（今回は性別）。\n"
      ],
      "metadata": {
        "id": "tulptVUna44r"
      }
    },
    {
      "cell_type": "code",
      "source": [
        "data = fetch_openml(data_id=1590, as_frame=True)\n",
        "X = pd.get_dummies(data.data)\n",
        "y = (data.target == '>50K') * 1\n",
        "sensitive = data.data['sex']\n",
        "X.head()"
      ],
      "metadata": {
        "colab": {
          "base_uri": "https://localhost:8080/",
          "height": 334
        },
        "id": "cBd91KOvZfC2",
        "outputId": "5818f97f-7986-4e40-83da-88dbc78e0620"
      },
      "execution_count": 80,
      "outputs": [
        {
          "output_type": "execute_result",
          "data": {
            "text/plain": [
              "    age    fnlwgt  education-num  capital-gain  capital-loss  hours-per-week  \\\n",
              "0  25.0  226802.0            7.0           0.0           0.0            40.0   \n",
              "1  38.0   89814.0            9.0           0.0           0.0            50.0   \n",
              "2  28.0  336951.0           12.0           0.0           0.0            40.0   \n",
              "3  44.0  160323.0           10.0        7688.0           0.0            40.0   \n",
              "4  18.0  103497.0           10.0           0.0           0.0            30.0   \n",
              "\n",
              "   workclass_Private  workclass_Self-emp-not-inc  workclass_Self-emp-inc  \\\n",
              "0                  1                           0                       0   \n",
              "1                  1                           0                       0   \n",
              "2                  0                           0                       0   \n",
              "3                  1                           0                       0   \n",
              "4                  0                           0                       0   \n",
              "\n",
              "   workclass_Federal-gov  ...  native-country_Guatemala  \\\n",
              "0                      0  ...                         0   \n",
              "1                      0  ...                         0   \n",
              "2                      0  ...                         0   \n",
              "3                      0  ...                         0   \n",
              "4                      0  ...                         0   \n",
              "\n",
              "   native-country_Nicaragua  native-country_Scotland  native-country_Thailand  \\\n",
              "0                         0                        0                        0   \n",
              "1                         0                        0                        0   \n",
              "2                         0                        0                        0   \n",
              "3                         0                        0                        0   \n",
              "4                         0                        0                        0   \n",
              "\n",
              "   native-country_Yugoslavia  native-country_El-Salvador  \\\n",
              "0                          0                           0   \n",
              "1                          0                           0   \n",
              "2                          0                           0   \n",
              "3                          0                           0   \n",
              "4                          0                           0   \n",
              "\n",
              "   native-country_Trinadad&Tobago  native-country_Peru  native-country_Hong  \\\n",
              "0                               0                    0                    0   \n",
              "1                               0                    0                    0   \n",
              "2                               0                    0                    0   \n",
              "3                               0                    0                    0   \n",
              "4                               0                    0                    0   \n",
              "\n",
              "   native-country_Holand-Netherlands  \n",
              "0                                  0  \n",
              "1                                  0  \n",
              "2                                  0  \n",
              "3                                  0  \n",
              "4                                  0  \n",
              "\n",
              "[5 rows x 105 columns]"
            ],
            "text/html": [
              "\n",
              "  <div id=\"df-6fc309e3-3685-4018-89bb-a12c21b8ad40\">\n",
              "    <div class=\"colab-df-container\">\n",
              "      <div>\n",
              "<style scoped>\n",
              "    .dataframe tbody tr th:only-of-type {\n",
              "        vertical-align: middle;\n",
              "    }\n",
              "\n",
              "    .dataframe tbody tr th {\n",
              "        vertical-align: top;\n",
              "    }\n",
              "\n",
              "    .dataframe thead th {\n",
              "        text-align: right;\n",
              "    }\n",
              "</style>\n",
              "<table border=\"1\" class=\"dataframe\">\n",
              "  <thead>\n",
              "    <tr style=\"text-align: right;\">\n",
              "      <th></th>\n",
              "      <th>age</th>\n",
              "      <th>fnlwgt</th>\n",
              "      <th>education-num</th>\n",
              "      <th>capital-gain</th>\n",
              "      <th>capital-loss</th>\n",
              "      <th>hours-per-week</th>\n",
              "      <th>workclass_Private</th>\n",
              "      <th>workclass_Self-emp-not-inc</th>\n",
              "      <th>workclass_Self-emp-inc</th>\n",
              "      <th>workclass_Federal-gov</th>\n",
              "      <th>...</th>\n",
              "      <th>native-country_Guatemala</th>\n",
              "      <th>native-country_Nicaragua</th>\n",
              "      <th>native-country_Scotland</th>\n",
              "      <th>native-country_Thailand</th>\n",
              "      <th>native-country_Yugoslavia</th>\n",
              "      <th>native-country_El-Salvador</th>\n",
              "      <th>native-country_Trinadad&amp;Tobago</th>\n",
              "      <th>native-country_Peru</th>\n",
              "      <th>native-country_Hong</th>\n",
              "      <th>native-country_Holand-Netherlands</th>\n",
              "    </tr>\n",
              "  </thead>\n",
              "  <tbody>\n",
              "    <tr>\n",
              "      <th>0</th>\n",
              "      <td>25.0</td>\n",
              "      <td>226802.0</td>\n",
              "      <td>7.0</td>\n",
              "      <td>0.0</td>\n",
              "      <td>0.0</td>\n",
              "      <td>40.0</td>\n",
              "      <td>1</td>\n",
              "      <td>0</td>\n",
              "      <td>0</td>\n",
              "      <td>0</td>\n",
              "      <td>...</td>\n",
              "      <td>0</td>\n",
              "      <td>0</td>\n",
              "      <td>0</td>\n",
              "      <td>0</td>\n",
              "      <td>0</td>\n",
              "      <td>0</td>\n",
              "      <td>0</td>\n",
              "      <td>0</td>\n",
              "      <td>0</td>\n",
              "      <td>0</td>\n",
              "    </tr>\n",
              "    <tr>\n",
              "      <th>1</th>\n",
              "      <td>38.0</td>\n",
              "      <td>89814.0</td>\n",
              "      <td>9.0</td>\n",
              "      <td>0.0</td>\n",
              "      <td>0.0</td>\n",
              "      <td>50.0</td>\n",
              "      <td>1</td>\n",
              "      <td>0</td>\n",
              "      <td>0</td>\n",
              "      <td>0</td>\n",
              "      <td>...</td>\n",
              "      <td>0</td>\n",
              "      <td>0</td>\n",
              "      <td>0</td>\n",
              "      <td>0</td>\n",
              "      <td>0</td>\n",
              "      <td>0</td>\n",
              "      <td>0</td>\n",
              "      <td>0</td>\n",
              "      <td>0</td>\n",
              "      <td>0</td>\n",
              "    </tr>\n",
              "    <tr>\n",
              "      <th>2</th>\n",
              "      <td>28.0</td>\n",
              "      <td>336951.0</td>\n",
              "      <td>12.0</td>\n",
              "      <td>0.0</td>\n",
              "      <td>0.0</td>\n",
              "      <td>40.0</td>\n",
              "      <td>0</td>\n",
              "      <td>0</td>\n",
              "      <td>0</td>\n",
              "      <td>0</td>\n",
              "      <td>...</td>\n",
              "      <td>0</td>\n",
              "      <td>0</td>\n",
              "      <td>0</td>\n",
              "      <td>0</td>\n",
              "      <td>0</td>\n",
              "      <td>0</td>\n",
              "      <td>0</td>\n",
              "      <td>0</td>\n",
              "      <td>0</td>\n",
              "      <td>0</td>\n",
              "    </tr>\n",
              "    <tr>\n",
              "      <th>3</th>\n",
              "      <td>44.0</td>\n",
              "      <td>160323.0</td>\n",
              "      <td>10.0</td>\n",
              "      <td>7688.0</td>\n",
              "      <td>0.0</td>\n",
              "      <td>40.0</td>\n",
              "      <td>1</td>\n",
              "      <td>0</td>\n",
              "      <td>0</td>\n",
              "      <td>0</td>\n",
              "      <td>...</td>\n",
              "      <td>0</td>\n",
              "      <td>0</td>\n",
              "      <td>0</td>\n",
              "      <td>0</td>\n",
              "      <td>0</td>\n",
              "      <td>0</td>\n",
              "      <td>0</td>\n",
              "      <td>0</td>\n",
              "      <td>0</td>\n",
              "      <td>0</td>\n",
              "    </tr>\n",
              "    <tr>\n",
              "      <th>4</th>\n",
              "      <td>18.0</td>\n",
              "      <td>103497.0</td>\n",
              "      <td>10.0</td>\n",
              "      <td>0.0</td>\n",
              "      <td>0.0</td>\n",
              "      <td>30.0</td>\n",
              "      <td>0</td>\n",
              "      <td>0</td>\n",
              "      <td>0</td>\n",
              "      <td>0</td>\n",
              "      <td>...</td>\n",
              "      <td>0</td>\n",
              "      <td>0</td>\n",
              "      <td>0</td>\n",
              "      <td>0</td>\n",
              "      <td>0</td>\n",
              "      <td>0</td>\n",
              "      <td>0</td>\n",
              "      <td>0</td>\n",
              "      <td>0</td>\n",
              "      <td>0</td>\n",
              "    </tr>\n",
              "  </tbody>\n",
              "</table>\n",
              "<p>5 rows × 105 columns</p>\n",
              "</div>\n",
              "      <button class=\"colab-df-convert\" onclick=\"convertToInteractive('df-6fc309e3-3685-4018-89bb-a12c21b8ad40')\"\n",
              "              title=\"Convert this dataframe to an interactive table.\"\n",
              "              style=\"display:none;\">\n",
              "        \n",
              "  <svg xmlns=\"http://www.w3.org/2000/svg\" height=\"24px\"viewBox=\"0 0 24 24\"\n",
              "       width=\"24px\">\n",
              "    <path d=\"M0 0h24v24H0V0z\" fill=\"none\"/>\n",
              "    <path d=\"M18.56 5.44l.94 2.06.94-2.06 2.06-.94-2.06-.94-.94-2.06-.94 2.06-2.06.94zm-11 1L8.5 8.5l.94-2.06 2.06-.94-2.06-.94L8.5 2.5l-.94 2.06-2.06.94zm10 10l.94 2.06.94-2.06 2.06-.94-2.06-.94-.94-2.06-.94 2.06-2.06.94z\"/><path d=\"M17.41 7.96l-1.37-1.37c-.4-.4-.92-.59-1.43-.59-.52 0-1.04.2-1.43.59L10.3 9.45l-7.72 7.72c-.78.78-.78 2.05 0 2.83L4 21.41c.39.39.9.59 1.41.59.51 0 1.02-.2 1.41-.59l7.78-7.78 2.81-2.81c.8-.78.8-2.07 0-2.86zM5.41 20L4 18.59l7.72-7.72 1.47 1.35L5.41 20z\"/>\n",
              "  </svg>\n",
              "      </button>\n",
              "      \n",
              "  <style>\n",
              "    .colab-df-container {\n",
              "      display:flex;\n",
              "      flex-wrap:wrap;\n",
              "      gap: 12px;\n",
              "    }\n",
              "\n",
              "    .colab-df-convert {\n",
              "      background-color: #E8F0FE;\n",
              "      border: none;\n",
              "      border-radius: 50%;\n",
              "      cursor: pointer;\n",
              "      display: none;\n",
              "      fill: #1967D2;\n",
              "      height: 32px;\n",
              "      padding: 0 0 0 0;\n",
              "      width: 32px;\n",
              "    }\n",
              "\n",
              "    .colab-df-convert:hover {\n",
              "      background-color: #E2EBFA;\n",
              "      box-shadow: 0px 1px 2px rgba(60, 64, 67, 0.3), 0px 1px 3px 1px rgba(60, 64, 67, 0.15);\n",
              "      fill: #174EA6;\n",
              "    }\n",
              "\n",
              "    [theme=dark] .colab-df-convert {\n",
              "      background-color: #3B4455;\n",
              "      fill: #D2E3FC;\n",
              "    }\n",
              "\n",
              "    [theme=dark] .colab-df-convert:hover {\n",
              "      background-color: #434B5C;\n",
              "      box-shadow: 0px 1px 3px 1px rgba(0, 0, 0, 0.15);\n",
              "      filter: drop-shadow(0px 1px 2px rgba(0, 0, 0, 0.3));\n",
              "      fill: #FFFFFF;\n",
              "    }\n",
              "  </style>\n",
              "\n",
              "      <script>\n",
              "        const buttonEl =\n",
              "          document.querySelector('#df-6fc309e3-3685-4018-89bb-a12c21b8ad40 button.colab-df-convert');\n",
              "        buttonEl.style.display =\n",
              "          google.colab.kernel.accessAllowed ? 'block' : 'none';\n",
              "\n",
              "        async function convertToInteractive(key) {\n",
              "          const element = document.querySelector('#df-6fc309e3-3685-4018-89bb-a12c21b8ad40');\n",
              "          const dataTable =\n",
              "            await google.colab.kernel.invokeFunction('convertToInteractive',\n",
              "                                                     [key], {});\n",
              "          if (!dataTable) return;\n",
              "\n",
              "          const docLinkHtml = 'Like what you see? Visit the ' +\n",
              "            '<a target=\"_blank\" href=https://colab.research.google.com/notebooks/data_table.ipynb>data table notebook</a>'\n",
              "            + ' to learn more about interactive tables.';\n",
              "          element.innerHTML = '';\n",
              "          dataTable['output_type'] = 'display_data';\n",
              "          await google.colab.output.renderOutput(dataTable, element);\n",
              "          const docLink = document.createElement('div');\n",
              "          docLink.innerHTML = docLinkHtml;\n",
              "          element.appendChild(docLink);\n",
              "        }\n",
              "      </script>\n",
              "    </div>\n",
              "  </div>\n",
              "  "
            ]
          },
          "metadata": {},
          "execution_count": 80
        }
      ]
    },
    {
      "cell_type": "markdown",
      "source": [
        "## 公平性評価\n",
        "- 機械学習モデル（決定木）の公平性を２つの指標で評価。両指標ともに低いほどよく0が最小値。Fairlearnではこれら代表的な指標を計算する関数が準備されている。\n",
        "  - Demographic Parity（DP）：結果の公平性指標\n",
        "  - Equalized Odds（EO）：手続きの公平性指標\n",
        "\n",
        "＊注意：\n",
        "荒い説明なので、計算方法などの詳細は[公平性に配慮した機械学習](https://engineering.mercari.com/blog/entry/20211217-3286689d87/)をご参照ください。"
      ],
      "metadata": {
        "id": "tkdprtcVtLIt"
      }
    },
    {
      "cell_type": "markdown",
      "source": [
        "- 基準となるモデルを決定木として学習し精度と2つの公平性指標を評価。"
      ],
      "metadata": {
        "id": "pbz3DkOR30bZ"
      }
    },
    {
      "cell_type": "code",
      "source": [
        "base_classifier = DecisionTreeClassifier(min_samples_leaf=10, max_depth=4)"
      ],
      "metadata": {
        "id": "9FGbT0Pjkx7A"
      },
      "execution_count": null,
      "outputs": []
    },
    {
      "cell_type": "code",
      "source": [
        "classifier = base_classifier\n",
        "classifier.fit(X, y)\n",
        "pred = base_classifier.predict(X)\n",
        "base_acc = accuracy_score(y_true=y, y_pred=pred)\n",
        "base_dpd = fairlearn.metrics.demographic_parity_difference(y_true=y, y_pred=pred, sensitive_features=sensitive)\n",
        "base_eod = fairlearn.metrics.equalized_odds_difference(y_true=y, y_pred=pred, sensitive_features=sensitive)\n",
        "print(base_acc,base_dpd,base_eod)"
      ],
      "metadata": {
        "colab": {
          "base_uri": "https://localhost:8080/"
        },
        "id": "-vvmS39JaNQE",
        "outputId": "90e3b3c9-d44a-4a5d-ca8a-92efe836537b"
      },
      "execution_count": 81,
      "outputs": [
        {
          "output_type": "stream",
          "name": "stdout",
          "text": [
            "0.8443552680070431 0.15004887369937472 0.0811655575720911\n"
          ]
        }
      ]
    },
    {
      "cell_type": "markdown",
      "source": [
        "- 比較手法としてランダムな予測値で精度と2つの公平性指標を評価。"
      ],
      "metadata": {
        "id": "18CHtSoA4WlZ"
      }
    },
    {
      "cell_type": "code",
      "source": [
        "pred = np.random.randint(0,2,len(y))\n",
        "random_acc = accuracy_score(y_true=y, y_pred=pred)\n",
        "random_dpd = fairlearn.metrics.demographic_parity_difference(y_true=y, y_pred=pred, sensitive_features=sensitive)\n",
        "random_eod = fairlearn.metrics.equalized_odds_difference(y_true=y, y_pred=pred, sensitive_features=sensitive)\n",
        "print(random_acc,random_dpd,random_eod)"
      ],
      "metadata": {
        "colab": {
          "base_uri": "https://localhost:8080/"
        },
        "id": "_eDhMvE1pRgt",
        "outputId": "80fe5504-0ed0-48ae-e511-0c20d8330442"
      },
      "execution_count": 98,
      "outputs": [
        {
          "output_type": "stream",
          "name": "stdout",
          "text": [
            "0.503071127308464 0.002828394639517229 0.004743817334933398\n"
          ]
        }
      ]
    },
    {
      "cell_type": "markdown",
      "source": [
        "- 機械学習モデルを用いることでランダムな予測に比べて、精度は大幅に上回るものの２つの公平性指標が共に悪化。\n",
        "- ランダムな予測では公平性指標はともに0（理想的な状態）に近い。"
      ],
      "metadata": {
        "id": "8VkNON6L4rmp"
      }
    },
    {
      "cell_type": "code",
      "source": [
        "plt.figure(figsize=(5,5))\n",
        "plt.bar([0.3,1.3,2.3],[base_acc,base_dpd,base_eod],width=0.4,label='Base')\n",
        "plt.bar([0.7,1.7,2.7],[random_acc,random_dpd,random_eod],width=0.4,label='Random')\n",
        "plt.xticks([0.5,1.5,2.5], labels=['accuracy','demographic parity','equalized odds'])\n",
        "plt.xlim(0,3)\n",
        "plt.legend()\n",
        "plt.show()"
      ],
      "metadata": {
        "colab": {
          "base_uri": "https://localhost:8080/",
          "height": 320
        },
        "id": "DV4NHfYj3nZc",
        "outputId": "af4cc446-2924-411c-eed1-eba682b356a7"
      },
      "execution_count": 99,
      "outputs": [
        {
          "output_type": "display_data",
          "data": {
            "text/plain": [
              "<Figure size 360x360 with 1 Axes>"
            ],
            "image/png": "[encoded data removed]"
          },
          "metadata": {
            "needs_background": "light"
          }
        }
      ]
    },
    {
      "cell_type": "markdown",
      "source": [
        "## 緩和アルゴリズム\n",
        "- Fairlearnでは指標を改善することを目的とした（不公平）緩和アルゴリズムが関数として用意されている。"
      ],
      "metadata": {
        "id": "OqWDzfoK5YmA"
      }
    },
    {
      "cell_type": "markdown",
      "source": [
        "- ExponentiatedGradientを用いた学習。\n",
        "- ExponentiatedGradientではベースとなる学習アルゴリズムと低くしたい公平性指標の指定が必要。\n",
        "- ベースを決定木、低くしたい指標をDemographic Parityとして実験。"
      ],
      "metadata": {
        "id": "yEA_5yUg643i"
      }
    },
    {
      "cell_type": "code",
      "source": [
        "classifier = base_classifier\n",
        "constraint = DemographicParity()\n",
        "mitigator = ExponentiatedGradient(classifier, constraint)\n",
        "mitigator.fit(X, y, sensitive_features=sensitive)\n",
        "pred = mitigator.predict(X)\n",
        "ex_dp_acc = accuracy_score(y_true=y, y_pred=pred)\n",
        "ex_dp_dpd = fairlearn.metrics.demographic_parity_difference(y_true=y, y_pred=pred, sensitive_features=sensitive)\n",
        "ex_dp_eod = fairlearn.metrics.equalized_odds_difference(y_true=y, y_pred=pred, sensitive_features=sensitive)\n",
        "print(ex_dp_acc,ex_dp_dpd,ex_dp_eod)"
      ],
      "metadata": {
        "colab": {
          "base_uri": "https://localhost:8080/"
        },
        "id": "99XV4guxlTvo",
        "outputId": "9f6ec3c2-9a89-4edf-dce7-e0e4a479d3b6"
      },
      "execution_count": 100,
      "outputs": [
        {
          "output_type": "stream",
          "name": "stdout",
          "text": [
            "0.8211989681012244 0.01539664152679332 0.2860753258688458\n"
          ]
        }
      ]
    },
    {
      "cell_type": "markdown",
      "source": [
        "- 精度をあまり落とさずにDemographic Parityの緩和に成功。一方でEqulized Oddsは悪化。\n",
        "- 直感的にはDemographic ParityとEqulized Oddsはトレードオフだから仕方ないと思える。"
      ],
      "metadata": {
        "id": "BR6gaVEH-Lmr"
      }
    },
    {
      "cell_type": "code",
      "source": [
        "plt.figure(figsize=(5,5))\n",
        "plt.bar([0.3,1.3,2.3],[base_acc,base_dpd,base_eod],width=0.4,label='Base')\n",
        "plt.bar([0.7,1.7,2.7],[ex_dp_acc,ex_dp_dpd,ex_dp_eod],width=0.4,label='ExponentiatedGradient(DP)')\n",
        "plt.xticks([0.5,1.5,2.5], labels=['accuracy','demographic parity','equalized odds'])\n",
        "plt.xlim(0,3)\n",
        "plt.legend()\n",
        "plt.show()"
      ],
      "metadata": {
        "colab": {
          "base_uri": "https://localhost:8080/",
          "height": 320
        },
        "id": "8-byHWfJ5WBa",
        "outputId": "b0d66917-ac20-495d-b56e-27495efb6d17"
      },
      "execution_count": 101,
      "outputs": [
        {
          "output_type": "display_data",
          "data": {
            "text/plain": [
              "<Figure size 360x360 with 1 Axes>"
            ],
            "image/png": "[encoded data removed]"
          },
          "metadata": {
            "needs_background": "light"
          }
        }
      ]
    },
    {
      "cell_type": "markdown",
      "source": [
        "- ベースを決定木、低くしたい指標をEqualized Oddsとして実験。"
      ],
      "metadata": {
        "id": "U_mpCEND-yUB"
      }
    },
    {
      "cell_type": "code",
      "source": [
        "classifier = base_classifier\n",
        "constraint = EqualizedOdds()\n",
        "mitigator = ExponentiatedGradient(classifier, constraint)\n",
        "mitigator.fit(X, y, sensitive_features=sensitive)\n",
        "pred = mitigator.predict(X)\n",
        "ex_eo_acc = accuracy_score(y_true=y, y_pred=pred)\n",
        "ex_eo_dpd = fairlearn.metrics.demographic_parity_difference(y_true=y, y_pred=pred, sensitive_features=sensitive)\n",
        "ex_eo_eod = fairlearn.metrics.equalized_odds_difference(y_true=y, y_pred=pred, sensitive_features=sensitive)\n",
        "print(ex_eo_acc,ex_eo_dpd,ex_eo_eod)"
      ],
      "metadata": {
        "colab": {
          "base_uri": "https://localhost:8080/"
        },
        "id": "FwL7CLaQn5ID",
        "outputId": "35130875-d9c2-41b0-da21-51834e8a62a7"
      },
      "execution_count": 102,
      "outputs": [
        {
          "output_type": "stream",
          "name": "stdout",
          "text": [
            "0.8389910323082593 0.10698914708036486 0.016596229049323424\n"
          ]
        }
      ]
    },
    {
      "cell_type": "markdown",
      "source": [
        "- 精度をあまり落とさずにDemographic ParityとEqulized Oddsが共に改善。\n",
        "- Demographic ParityとEqulized Oddsは完全にトレードオフな関係ではないことがわかる。"
      ],
      "metadata": {
        "id": "pt8tgQMQ-7Fx"
      }
    },
    {
      "cell_type": "code",
      "source": [
        "plt.figure(figsize=(5,5))\n",
        "plt.bar([0.3,1.3,2.3],[base_acc,base_dpd,base_eod],width=0.4,label='Base')\n",
        "plt.bar([0.7,1.7,2.7],[ex_eo_acc,ex_eo_dpd,ex_eo_eod],width=0.4,label='ExponentiatedGradient(EO)')\n",
        "plt.xticks([0.5,1.5,2.5], labels=['accuracy','demographic parity','equalized odds'])\n",
        "plt.xlim(0,3)\n",
        "plt.legend()\n",
        "plt.show()"
      ],
      "metadata": {
        "id": "6NTmtOblonXR",
        "colab": {
          "base_uri": "https://localhost:8080/",
          "height": 320
        },
        "outputId": "ad93e6cd-9f16-43b2-e835-c0d1bb5596da"
      },
      "execution_count": 103,
      "outputs": [
        {
          "output_type": "display_data",
          "data": {
            "text/plain": [
              "<Figure size 360x360 with 1 Axes>"
            ],
            "image/png": "[encoded data removed]"
          },
          "metadata": {
            "needs_background": "light"
          }
        }
      ]
    },
    {
      "cell_type": "markdown",
      "source": [
        "- 結論：完全に公平なAIを開発するのは難しいが、精度をあまり落とさずに定められた複数の指標を改善する簡単な方法が存在する可能性がある。"
      ],
      "metadata": {
        "id": "2XsYVlXj_dyV"
      }
    },
    {
      "cell_type": "markdown",
      "source": [
        ""
      ],
      "metadata": {
        "id": "cwuEymef_bh7"
      }
    }
  ]
}